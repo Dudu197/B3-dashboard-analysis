{
 "cells": [
  {
   "cell_type": "code",
   "execution_count": 2,
   "metadata": {},
   "outputs": [],
   "source": [
    "not_contains = [\n",
    "    'RBRA',\n",
    "    'STEN',\n",
    "    'BPAR',\n",
    "    'APCS',\n",
    "    'PLSC',\n",
    "    'BRCS',\n",
    "    'BSLI',\n",
    "    'PDGS',\n",
    "    'TRIA',\n",
    "    'CABI',\n",
    "    'HBTS',\n",
    "    'MMAQ',\n",
    "    'ALEF',\n",
    "    'AGRU',\n",
    "    'VSPT',\n",
    "    'WSON',\n",
    "    'OPSE',\n",
    "    'PALF',\n",
    "    'SAIP',\n",
    "    'GEPA',\n",
    "    'GASC',\n",
    "    'CATA',\n",
    "    'ANHB',\n",
    "    'RESA',\n",
    "    'VOES',\n",
    "    'OPTS',\n",
    "    'MRSA',\n",
    "    'AESL',\n",
    "    'ECOA',\n",
    "    'SMFT',\n",
    "    'ASCP',\n",
    "    'RPTA',\n",
    "    'CACO',\n",
    "    'CASN',\n",
    "    'BDLS',\n",
    "    'PPAR',\n",
    "    'PEAB',\n",
    "    'BVLS',\n",
    "    'IGSN',\n",
    "    'CSAB',\n",
    "    'CTBA',\n",
    "    'CNSY',\n",
    "    'JOPA',\n",
    "    'CEAB',\n",
    "    'QUSW',\n",
    "    'CSRN',\n",
    "    'BZRS',\n",
    "    'MAPT',\n",
    "    'STKF',\n",
    "    'PMSP',\n",
    "    'MSRO',\n",
    "    'OCTS',\n",
    "    'UCAS',\n",
    "    'GPAR',\n",
    "    'EQMA',\n",
    "    'ESCE'\n",
    "]"
   ]
  },
  {
   "cell_type": "code",
   "execution_count": 3,
   "metadata": {},
   "outputs": [
    {
     "data": {
      "text/plain": [
       "True"
      ]
     },
     "execution_count": 3,
     "metadata": {},
     "output_type": "execute_result"
    }
   ],
   "source": [
    "'a' in 'abc'"
   ]
  },
  {
   "cell_type": "code",
   "execution_count": 9,
   "metadata": {},
   "outputs": [],
   "source": [
    "with open(\"empresas_b3.csv\", \"r\") as f:\n",
    "    lines = f.readlines()\n",
    "with open(\"empresas_b3.csv\", \"w\") as f:\n",
    "    for line in lines:\n",
    "        contains = False\n",
    "        for i in not_contains:\n",
    "            if i in line.strip(\"\\n\"):\n",
    "                contains = True\n",
    "        if not contains:\n",
    "            f.write(line)"
   ]
  },
  {
   "cell_type": "code",
   "execution_count": null,
   "metadata": {},
   "outputs": [],
   "source": []
  }
 ],
 "metadata": {
  "kernelspec": {
   "display_name": "Python 3",
   "language": "python",
   "name": "python3"
  },
  "language_info": {
   "codemirror_mode": {
    "name": "ipython",
    "version": 3
   },
   "file_extension": ".py",
   "mimetype": "text/x-python",
   "name": "python",
   "nbconvert_exporter": "python",
   "pygments_lexer": "ipython3",
   "version": "3.6.5"
  }
 },
 "nbformat": 4,
 "nbformat_minor": 2
}
