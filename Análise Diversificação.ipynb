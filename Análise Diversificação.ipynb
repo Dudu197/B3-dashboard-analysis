{
 "cells": [
  {
   "cell_type": "code",
   "execution_count": 12,
   "metadata": {},
   "outputs": [],
   "source": [
    "from matplotlib import pyplot as plt\n",
    "import pandas as pd\n",
    "import numpy as np\n",
    "import yfinance as yf\n",
    "from pandas_datareader import data as pdr\n",
    "from datetime import datetime, date, timedelta\n",
    "from dateutil.relativedelta import relativedelta"
   ]
  },
  {
   "cell_type": "code",
   "execution_count": 8,
   "metadata": {},
   "outputs": [],
   "source": [
    "yf.pdr_override()"
   ]
  },
  {
   "cell_type": "code",
   "execution_count": 10,
   "metadata": {},
   "outputs": [],
   "source": [
    "def first_business_day(date):\n",
    "#     if date.day > 25:\n",
    "#         date += timedelta(7)\n",
    "    month = date.replace(day=1)\n",
    "    if month.weekday() > 4:\n",
    "        month = date.replace(day=(8 - month.weekday()))\n",
    "    return month.strftime(\"%Y-%m-%d\")"
   ]
  },
  {
   "cell_type": "code",
   "execution_count": 20,
   "metadata": {},
   "outputs": [],
   "source": [
    "end_date = (datetime.now() + timedelta(1)).strftime(\"%Y-%m-%d\")\n",
    "month = first_business_day(date.today())\n",
    "three_month = first_business_day((date.today() + relativedelta(months=-3)))\n",
    "six_month = first_business_day((date.today() + relativedelta(months=-6)))\n",
    "now = datetime.now()\n",
    "monday = (now - timedelta(days = now.weekday())).strftime(\"%Y-%m-%d\")\n",
    "start_date = '{}-01-01'.format(date.today().year - 1)"
   ]
  },
  {
   "cell_type": "code",
   "execution_count": 27,
   "metadata": {},
   "outputs": [],
   "source": [
    "monday = '2020-09-08'"
   ]
  },
  {
   "cell_type": "code",
   "execution_count": 49,
   "metadata": {},
   "outputs": [],
   "source": [
    "acoes = {\n",
    "    'BBDC4': 0.21,\n",
    "    'TOTS3': 0.2,\n",
    "    'ITSA4': 0.13,\n",
    "    'LIGT3': 0.11,\n",
    "    'CSNA3': 0.08,\n",
    "    'STBP3': 0.07,\n",
    "    'SUZB3': 0.07,\n",
    "    'ENEV3': 0.07,\n",
    "    'CIEL3': 0.06\n",
    "}\n",
    "\n",
    "# Meus fundos\n",
    "# fundos = {\n",
    "#     'GGRC11': 0.25,\n",
    "#     'HGRU11': 0.23,\n",
    "#     'VILG11': 0.22,\n",
    "#     'IRDM11': 0.2,\n",
    "#     'LVBI11': 0.11\n",
    "# }\n",
    "\n",
    "# Funds Explorer\n",
    "fundos = {\n",
    "    'HGBS11': 0.047,\n",
    "    'HGRE11': 0.1103,\n",
    "    'VRTA11': 0.1335,\n",
    "    'GGRC11': 0.1060,\n",
    "    'XPML11': 0.0573,\n",
    "    'IRDM11': 0.1512,\n",
    "    'HGRU11': 0.1037,\n",
    "    'VILG11': 0.1668,\n",
    "    'RBRP11': 0.0758,\n",
    "    'XPSF11': 0.0507\n",
    "}"
   ]
  },
  {
   "cell_type": "code",
   "execution_count": 3,
   "metadata": {},
   "outputs": [],
   "source": [
    "def add_value(key, value, dict_to_add):\n",
    "    if key in dict_to_add:\n",
    "        dict_to_add[key] += value\n",
    "    else:\n",
    "        dict_to_add[key] = value"
   ]
  },
  {
   "cell_type": "code",
   "execution_count": 4,
   "metadata": {},
   "outputs": [],
   "source": [
    "def plot(values):\n",
    "    plt.pie(values.values(), labels=values.keys(), autopct='%1.1f%%')"
   ]
  },
  {
   "cell_type": "code",
   "execution_count": 38,
   "metadata": {},
   "outputs": [],
   "source": [
    "def print_values(empresas):\n",
    "    empresas = [x + '.SA' for x in empresas]\n",
    "    data = pdr.get_data_yahoo(empresas, start=start_date, end=end_date)['Close']\n",
    "    df_mean = pd.DataFrame()\n",
    "    for empresa in empresas:\n",
    "        valor_ano = round(data.iloc[0][empresa], 2)\n",
    "        valor_seis_meses = round(data.iloc[data.index.get_loc(six_month,method='nearest')][empresa], 2)\n",
    "        valor_tres_meses = round(data.iloc[data.index.get_loc(three_month,method='nearest')][empresa], 2)\n",
    "        valor_mes = round(data.loc[month][empresa], 2)\n",
    "        valor_semana = round(data.loc[monday][empresa], 2)\n",
    "        valor_ontem = round(data.iloc[-2][empresa], 2)\n",
    "        valor_hoje = round(data.iloc[-1][empresa], 2)\n",
    "\n",
    "        percent_ano = round((((valor_hoje - valor_ano) / valor_ano) * 100), 2)\n",
    "        percent_seis_meses = round((((valor_hoje - valor_seis_meses) / valor_seis_meses) * 100), 2)\n",
    "        percent_tres_meses = round((((valor_hoje - valor_tres_meses) / valor_tres_meses) * 100), 2)\n",
    "        percent_mes = round((((valor_hoje - valor_mes) / valor_mes) * 100), 2)\n",
    "        percent_semana = round((((valor_hoje - valor_semana) / valor_semana) * 100), 2)\n",
    "        percent_hoje = round((((valor_hoje - valor_ontem) / valor_ontem) * 100), 2)\n",
    "        line = pd.Series({\n",
    "            'inicio_ano': valor_ano,\n",
    "            'inicio_seis_meses': valor_seis_meses,\n",
    "            'inicio_tres_meses': valor_tres_meses,\n",
    "            'inicio_mes': valor_mes,\n",
    "            'inicio_semana': valor_semana,\n",
    "            'hoje': valor_hoje,\n",
    "            'percent_ano': percent_ano,\n",
    "            'percent_seis_meses': percent_seis_meses,\n",
    "            'percent_tres_meses': percent_tres_meses,\n",
    "            'percent_mes': percent_mes,\n",
    "            'percent_semana': percent_semana,\n",
    "            'percent_hoje': percent_hoje\n",
    "        }, name=empresa)\n",
    "        df_mean = df_mean.append(line)\n",
    "    print(df_mean)"
   ]
  },
  {
   "cell_type": "code",
   "execution_count": 43,
   "metadata": {},
   "outputs": [],
   "source": [
    "empresas = pd.read_csv('empresas_b3.csv', sep=';', encoding = \"ISO-8859-1\")"
   ]
  },
  {
   "cell_type": "code",
   "execution_count": 48,
   "metadata": {},
   "outputs": [
    {
     "name": "stdout",
     "output_type": "stream",
     "text": [
      "BBDC4 => Bancos\n",
      "TOTS3 => Programas e Serviços\n",
      "ITSA4 => Bancos\n",
      "LIGT3 => EQTL PARA EQPA\n",
      "CSNA3 => Siderurgia\n",
      "STBP3 => Serviços de Apoio e Armazenagem\n",
      "SUZB3 => Papel e Celulose\n",
      "ENEV3 => Energia Elétrica\n",
      "CIEL3 => Serviços Financeiros Diversos\n",
      "[*********************100%***********************]  291 of 291 completed\n",
      "\n",
      "12 Failed downloads:\n",
      "- CBSC.SA: No data found, symbol may be delisted\n",
      "- GAFL.SA: No data found, symbol may be delisted\n",
      "- SLCT.SA: No data found, symbol may be delisted\n",
      "- CMSA.SA: No data found, symbol may be delisted\n",
      "- SNST.SA: No data found, symbol may be delisted\n",
      "- GAIA.SA: No data found, symbol may be delisted\n",
      "- CALI.SA: No data found, symbol may be delisted\n",
      "- MA.SA: No data found, symbol may be delisted\n",
      "- BSCS.SA: No data found, symbol may be delisted\n",
      "- ALGT.SA: No data found, symbol may be delisted\n",
      "- APTI.SA: No data found, symbol may be delisted\n",
      "- SPRT.SA: No data found, symbol may be delisted\n",
      "           hoje  inicio_ano  inicio_mes  inicio_seis_meses  inicio_semana  \\\n",
      "CSAN3.SA  74.26       35.70       81.69              75.55          76.02   \n",
      "DMMO3.SA   1.18        9.80        1.26               1.59           1.24   \n",
      "ENAT3.SA  10.68       10.69       11.46              13.61          11.08   \n",
      "RPMG3.SA   2.76        2.99        2.89               4.10           2.80   \n",
      "PETR3.SA  22.04       26.65       23.36              28.10          22.52   \n",
      "...         ...         ...         ...                ...            ...   \n",
      "ATOM3.SA   2.80        2.49        2.79               1.66           3.03   \n",
      "CMSA.SA     NaN         NaN         NaN                NaN            NaN   \n",
      "JBDU3.SA   2.10        9.80        2.45               3.10           2.31   \n",
      "SPRT.SA     NaN         NaN         NaN                NaN            NaN   \n",
      "SLCT.SA     NaN         NaN         NaN                NaN            NaN   \n",
      "\n",
      "          inicio_tres_meses  percent_ano  percent_hoje  percent_mes  \\\n",
      "CSAN3.SA              68.29       108.01         -1.72        -9.10   \n",
      "DMMO3.SA               1.18       -87.96         -3.28        -6.35   \n",
      "ENAT3.SA              10.51        -0.09         -1.39        -6.81   \n",
      "RPMG3.SA               2.60        -7.69          1.10        -4.50   \n",
      "PETR3.SA              20.95       -17.30         -0.50        -5.65   \n",
      "...                     ...          ...           ...          ...   \n",
      "ATOM3.SA               1.65        12.45         -4.11         0.36   \n",
      "CMSA.SA                 NaN          NaN           NaN          NaN   \n",
      "JBDU3.SA               1.89       -78.57         -4.11       -14.29   \n",
      "SPRT.SA                 NaN          NaN           NaN          NaN   \n",
      "SLCT.SA                 NaN          NaN           NaN          NaN   \n",
      "\n",
      "          percent_seis_meses  percent_semana  percent_tres_meses  \n",
      "CSAN3.SA               -1.71           -2.32                8.74  \n",
      "DMMO3.SA              -25.79           -4.84                0.00  \n",
      "ENAT3.SA              -21.53           -3.61                1.62  \n",
      "RPMG3.SA              -32.68           -1.43                6.15  \n",
      "PETR3.SA              -21.57           -2.13                5.20  \n",
      "...                      ...             ...                 ...  \n",
      "ATOM3.SA               68.67           -7.59               69.70  \n",
      "CMSA.SA                  NaN             NaN                 NaN  \n",
      "JBDU3.SA              -32.26           -9.09               11.11  \n",
      "SPRT.SA                  NaN             NaN                 NaN  \n",
      "SLCT.SA                  NaN             NaN                 NaN  \n",
      "\n",
      "[291 rows x 12 columns]\n"
     ]
    },
    {
     "data": {
      "image/png": "[encoded data removed]",
      "text/plain": [
       "<Figure size 432x288 with 1 Axes>"
      ]
     },
     "metadata": {},
     "output_type": "display_data"
    }
   ],
   "source": [
    "if acoes:\n",
    "    empresas = pd.read_csv('empresas_b3.csv', sep=';', encoding = \"ISO-8859-1\")\n",
    "    porcentagens = {}\n",
    "    for acao in acoes.keys():\n",
    "        valores = empresas[empresas['Código'] == acao].Setor.values\n",
    "        if valores:\n",
    "            add_value(valores[0], acoes[acao], porcentagens)\n",
    "            print('{} => {}'.format(acao, valores[0]))\n",
    "        else:\n",
    "            add_value('Outros', acoes[acao], porcentagens)\n",
    "            print('{} => {}'.format(acao, 'Outros'))\n",
    "    plot(porcentagens)\n",
    "    print_values(list(empresas['Código']))"
   ]
  },
  {
   "cell_type": "code",
   "execution_count": 50,
   "metadata": {},
   "outputs": [
    {
     "name": "stdout",
     "output_type": "stream",
     "text": [
      "HGBS11 => Shoppings\n",
      "HGRE11 => Imóveis Comerciais\n",
      "VRTA11 => Papéis\n",
      "GGRC11 => Imóveis Industriais e Logísticos\n",
      "XPML11 => Shoppings\n",
      "IRDM11 => Papéis\n",
      "HGRU11 => Educacional\n",
      "VILG11 => Imóveis Industriais e Logísticos\n",
      "RBRP11 => Outros\n",
      "XPSF11 => Outros\n",
      "[*********************100%***********************]  1 of 1 completed\n",
      "[*********************100%***********************]  10 of 10 completed\n",
      "             hoje  inicio_ano  inicio_mes  inicio_seis_meses  inicio_semana  \\\n",
      "HGBS11.SA  212.89      237.40      212.50             280.72         210.99   \n",
      "HGRE11.SA  152.50      147.70      150.90             179.00         151.91   \n",
      "VRTA11.SA  104.15      116.91      104.21             126.80         104.49   \n",
      "GGRC11.SA  144.50      136.62      144.28             137.23         143.99   \n",
      "XPML11.SA  109.00      108.58      108.07             133.99         107.75   \n",
      "IRDM11.SA  117.86      111.00      116.52             123.50         118.00   \n",
      "HGRU11.SA  132.88      103.51      131.01             130.60         132.03   \n",
      "VILG11.SA  127.90         NaN      126.00             123.39         126.45   \n",
      "RBRP11.SA   90.70       81.00       90.80              87.58          90.80   \n",
      "XPSF11.SA   96.99         NaN       96.83                NaN          98.70   \n",
      "\n",
      "           inicio_tres_meses  percent_ano  percent_hoje  percent_mes  \\\n",
      "HGBS11.SA             205.25       -10.32         -0.03         0.18   \n",
      "HGRE11.SA             144.77         3.25          0.33         1.06   \n",
      "VRTA11.SA             112.77       -10.91         -0.25        -0.06   \n",
      "GGRC11.SA             121.00         5.77         -0.62         0.15   \n",
      "XPML11.SA                NaN         0.39          0.37         0.86   \n",
      "IRDM11.SA                NaN         6.18         -1.16         1.15   \n",
      "HGRU11.SA             115.89        28.37          0.70         1.43   \n",
      "VILG11.SA             117.49          NaN          0.73         1.51   \n",
      "RBRP11.SA              78.70        11.98         -0.32        -0.11   \n",
      "XPSF11.SA                NaN          NaN         -0.73         0.17   \n",
      "\n",
      "           percent_seis_meses  percent_semana  percent_tres_meses  \n",
      "HGBS11.SA              -24.16            0.90                3.72  \n",
      "HGRE11.SA              -14.80            0.39                5.34  \n",
      "VRTA11.SA              -17.86           -0.33               -7.64  \n",
      "GGRC11.SA                5.30            0.35               19.42  \n",
      "XPML11.SA              -18.65            1.16                 NaN  \n",
      "IRDM11.SA               -4.57           -0.12                 NaN  \n",
      "HGRU11.SA                1.75            0.64               14.66  \n",
      "VILG11.SA                3.66            1.15                8.86  \n",
      "RBRP11.SA                3.56           -0.11               15.25  \n",
      "XPSF11.SA                 NaN           -1.73                 NaN  \n"
     ]
    },
    {
     "data": {
      "image/png": "[encoded data removed]",
      "text/plain": [
       "<Figure size 432x288 with 1 Axes>"
      ]
     },
     "metadata": {},
     "output_type": "display_data"
    }
   ],
   "source": [
    "if fundos:\n",
    "    empresas = pd.read_json('ifix.json')\n",
    "    porcentagens = {}\n",
    "    for fundo in fundos.keys():\n",
    "        valores = empresas[empresas['Código'] == fundo].Setor.values\n",
    "        if valores:\n",
    "            add_value(valores[0], fundos[fundo], porcentagens)\n",
    "            print('{} => {}'.format(fundo, valores[0]))\n",
    "        else:\n",
    "            add_value('Outros', fundos[fundo], porcentagens)\n",
    "            print('{} => {}'.format(fundo, 'Outros'))\n",
    "    data = pdr.get_data_yahoo('IFIX.SA', start=start_date, end=end_date)\n",
    "    plot(porcentagens)\n",
    "    print_values(fundos.keys())"
   ]
  },
  {
   "cell_type": "code",
   "execution_count": null,
   "metadata": {},
   "outputs": [],
   "source": []
  }
 ],
 "metadata": {
  "kernelspec": {
   "display_name": "Python 3",
   "language": "python",
   "name": "python3"
  },
  "language_info": {
   "codemirror_mode": {
    "name": "ipython",
    "version": 3
   },
   "file_extension": ".py",
   "mimetype": "text/x-python",
   "name": "python",
   "nbconvert_exporter": "python",
   "pygments_lexer": "ipython3",
   "version": "3.6.5"
  }
 },
 "nbformat": 4,
 "nbformat_minor": 2
}
