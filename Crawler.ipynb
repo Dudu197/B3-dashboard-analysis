{
 "cells": [
  {
   "cell_type": "code",
   "execution_count": 2,
   "metadata": {},
   "outputs": [],
   "source": [
    "import os\n",
    "import json"
   ]
  },
  {
   "cell_type": "code",
   "execution_count": 19,
   "metadata": {},
   "outputs": [],
   "source": [
    "f = open(\"empresas_b3.csv\", \"r\")\n",
    "lines = f.readlines()\n",
    "for line in lines[1:]:\n",
    "    ticket = line.split(';')[1]\n",
    "    result = os.system('scrapy runspider crawler.py -a ticket={0} -o crawlers/{0}.json'.format(ticket))\n",
    "    if result != 0:\n",
    "        print('Error on {}'.format(ticket))\n",
    "f.close()"
   ]
  },
  {
   "cell_type": "code",
   "execution_count": 3,
   "metadata": {},
   "outputs": [],
   "source": [
    "with open('ifix.json', encoding=\"utf-8\") as json_file:\n",
    "    data = json.load(json_file)\n",
    "    for line in data:\n",
    "        ticket = line['Código']\n",
    "        result = os.system('scrapy runspider crawler_fii.py -a ticket={0} -o crawlers/{0}.json'.format(ticket))\n",
    "        if result != 0:\n",
    "            print('Error on {}'.format(ticket))"
   ]
  },
  {
   "cell_type": "code",
   "execution_count": null,
   "metadata": {},
   "outputs": [],
   "source": []
  }
 ],
 "metadata": {
  "kernelspec": {
   "display_name": "Python 3",
   "language": "python",
   "name": "python3"
  },
  "language_info": {
   "codemirror_mode": {
    "name": "ipython",
    "version": 3
   },
   "file_extension": ".py",
   "mimetype": "text/x-python",
   "name": "python",
   "nbconvert_exporter": "python",
   "pygments_lexer": "ipython3",
   "version": "3.8.3"
  }
 },
 "nbformat": 4,
 "nbformat_minor": 2
}
